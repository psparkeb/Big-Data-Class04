{
  "nbformat": 4,
  "nbformat_minor": 0,
  "metadata": {
    "colab": {
      "name": "Big-Data-Class04.ipynb",
      "provenance": [],
      "authorship_tag": "ABX9TyNHAgovDwie/DPLVMyM4CeT",
      "include_colab_link": true
    },
    "kernelspec": {
      "name": "python3",
      "display_name": "Python 3"
    },
    "language_info": {
      "name": "python"
    }
  },
  "cells": [
    {
      "cell_type": "markdown",
      "metadata": {
        "id": "view-in-github",
        "colab_type": "text"
      },
      "source": [
        "<a href=\"https://colab.research.google.com/github/psparkeb/Big-Data-Class04/blob/main/Big_Data_Class04.ipynb\" target=\"_parent\"><img src=\"https://colab.research.google.com/assets/colab-badge.svg\" alt=\"Open In Colab\"/></a>"
      ]
    },
    {
      "cell_type": "code",
      "execution_count": 30,
      "metadata": {
        "id": "T-45I4W1U7wM"
      },
      "outputs": [],
      "source": [
        "# KoNLP설치하기(이게 어려움, r버전이 낮으면 어려움 major 4점대 이상인지 확인)"
      ]
    },
    {
      "cell_type": "code",
      "source": [
        "#Sys.getenv('JAVA_HOME')"
      ],
      "metadata": {
        "id": "f15lSktoViGM"
      },
      "execution_count": 31,
      "outputs": []
    },
    {
      "cell_type": "code",
      "source": [
        "#install.packages('devtools')"
      ],
      "metadata": {
        "id": "U7YfunwOV14q"
      },
      "execution_count": 32,
      "outputs": []
    },
    {
      "cell_type": "code",
      "source": [
        "#remotes (haven-jung/KoNLP이 만드신 것...이렇게 안 함..ㅎㅎ?)\n",
        "#install.packages('remotes')\n",
        "#remotes:: (하면 사용가능한 함수가 나옴)\n",
        "#remotes::install_github('luxdolorosa/KoNLP',upgrade='never',INSTALL_opts=c('--no-multiarch'))"
      ],
      "metadata": {
        "id": "TgZCPIaoV8xr"
      },
      "execution_count": 33,
      "outputs": []
    },
    {
      "cell_type": "code",
      "source": [
        "#KoNLP설치 확인하기\n",
        "#library(KoNLP) ,JAVA도 깔려있어야 오류 안 남.\n",
        "#https://github.com/luxdolorosa/data_set\n",
        "#f<-readLines('moon_UTF8.txt파일의 raw 주소',encoding='UTF-8')\n",
        "#head(f)"
      ],
      "metadata": {
        "id": "xBdk_FKQV7N6"
      },
      "execution_count": 34,
      "outputs": []
    },
    {
      "cell_type": "code",
      "source": [
        "#파이프라인 문법(이전의 결과를 가지고 작업을 해나감, 앞의 결과가 %>% 뒤로 연결되는 문법)\n",
        "# a<- 1\n",
        "# a+1\n",
        "\n",
        "#library(dplyr) 파이프라인 문법 사용 시\n",
        "#1%>%+1\n",
        "\n",
        "#f%>% head() 이런식으로 됨.\n",
        "\n",
        "#실습: 1을 문자로 변경하고 타입 출력\n",
        "# 1 %>% as.character() %>% class()\n",
        "#아니면 복잡해짐\n",
        "# a<- 1  b<- as.character(a)  class(b) ....ㅠㅠ\n"
      ],
      "metadata": {
        "id": "AxLrljgZVxqr"
      },
      "execution_count": 35,
      "outputs": []
    },
    {
      "cell_type": "code",
      "source": [
        "#형태소 분석: 어절을 분석하는 것. 동사, 명사, 형용사인지 등을 품사를 붙이는 것. =태깅 작업\n",
        "#SimplePos09('안녕하세요. 빅데이터 분석 전문가 시간입니다.')  > 카이스트 품사 태그셋 참고하기\n",
        "\n",
        "#형태소 분석을 이용해서 대통령 연설문에 품사 붙이기\n",
        "#moon_ko <- f %>% SimplePos09()\n",
        "#moon_ko %>% head()\n",
        "\n",
        "#구조 변경하기\n",
        "#reshape2: 구조 변경을 도와주는 패키지\n",
        "#install.packages('reshape2')\n",
        "#library(reshape2)\n",
        "#reshape2::melt()\n",
        "#moon_ko %>%head(1)\n",
        "#moon_ko %>%melt %>%head(10) melt의 결과 컬럼 >> value: 실제 값 L2: 내부 리스트의 이름 L1: 외부 리스트의 이름\n"
      ],
      "metadata": {
        "id": "a9rCjTd6dbLS"
      },
      "execution_count": 36,
      "outputs": []
    },
    {
      "cell_type": "code",
      "source": [
        "#moon_ko를 tibble로 변경하기\n",
        "#m_df<- moon_ko %>% melt() %>% as_tibble()\n",
        "\n",
        "#실습: value 칼럼만 저장, 아래 방법이 모두 같은 결과~다른 사람들의 코드도 읽을 수 있어야 하기에 ㅎㅎ\n",
        "#m_df[,'value']\n",
        "#m_df[,1]\n",
        "#select(m_df,1)\n",
        "#select(m_df,'value')\n",
        "#m_df %>% select(1)\n",
        "#m_df %>% select('value')\n",
        "\n",
        "# m_df1 <- m_df[,'value'] 로 하면 됨.\n",
        "\n",
        "# 명사만 추출 /N이 붙은 데이터만 추출하기, 정규식을 이용하여 명사 추출하기\n",
        "#c('사실/N','korea/N', '알/P', '코리아/N정보/P')\n",
        "#tmp_txt<-c('사실/N','korea/N', '알/P', '코리아/N정보/P')\n",
        "#install.packages('stringr')\n",
        "#library(stringr)\n",
        "#tmp_txt 한글이면서 /N가 붙은 데이터만 추출하기\n",
        "#tmp_txt %>% str_match('([가-힣]+)/N)\n",
        "#정규식: a-z 모든 영소문자 A-Z 모든 영대문자 0-9 모든 숫자  가-힣: 모든 한글\n",
        "\n",
        "# 연설문에 정규식을 적용하여 명사 추출하기\n",
        "#head(m_df1)\n",
        "#m_df1 %>% str_match('([가-힣]+)/N')\n",
        "#m_df2<- str_match(m_df1$value,'([가-힣]+)/N')[,2]\n",
        "\n",
        "#noun이라는 새로운 열을 만들어서 명사값 입력하기\n",
        "# mutate ():복제 함수 이용하여 열을 만듦\n",
        "# m_df2<- m_df1 %>% mutate(noun=str_match(value,'([가-힣]+)/N')[,2]) %>% na.omit()\n",
        "\n",
        "#noun 열의 단어별 개수 카운트 \n",
        "#m_df %>% count(noun,sort=T)\n",
        "\n",
        "# 것, 수 처럼 1글자인 데이터는 조회하지 않기\n",
        "# str_length('가')\n",
        "# str_length('가나')\n",
        "#  m_df3 <- m_df2 %>% filter(str_length(noun) >=2 ) %>% count(noun, sort=T)\n"
      ],
      "metadata": {
        "id": "QK7Q5t1Ydbfs"
      },
      "execution_count": 37,
      "outputs": []
    },
    {
      "cell_type": "code",
      "source": [
        "# 실습: m_df3 에서 n이 2 이상인 데이터만 조회(추출)\n",
        "# filter(m_df3, n >= 2 )  또는 m_df3 %>% filter(n>=2)\n",
        "\n",
        "#워드클라우드 \n",
        "#install.packages('wordcloud2')\n",
        "#library(wordcloud2)\n",
        "#m_df3 %>% wordcloud2()\n",
        "\n",
        "#m_df3 %>% filter(n>=2) %>%  wordcloud2()  그냥 하면 너무 많은 데이터가 나오므로 필터로 한번 걸러주면 좀 더 유용한 정보들을 보기 좋게 시각화할 수 있음."
      ],
      "metadata": {
        "id": "9l7K0WwPuC2Q"
      },
      "execution_count": 38,
      "outputs": []
    },
    {
      "cell_type": "code",
      "source": [
        "#crawling\n",
        "#http://big-data-insight.com/\n",
        "#멀티페이지 크롤링하기> 주소 중 반복되는 구간 찾기\n",
        "\n",
        "#크롤링 대상 url 만들기\n",
        "# my_url<- NULL \n",
        "# for(x in c(41:43)) { p <- paste0('주소 중 반복되는 부분', x) my_url <- c(my_url,p)}\n",
        "# 사이트 들어가서 F12 눌러서 elements 이동해서 화살표 누르고 긁어오고 싶은 부분 긁어오기, 기준 잡고 전체가 표시되는 부분 찾기\n",
        "\n",
        "# 1번방의 url을 이용하여 크롤링하기\n",
        "# my_url[1]\n",
        "#library(rvest)\n",
        "#read_html(my_url[1] %>% html_node('.details_1') %>%html_text()\n",
        "\n",
        "#반복문으로 3개 url에서 데이터 수집하기\n",
        "#txts <-NULL\n",
        "#for(my_data in my url) {tmp <-read_html(my_data) %>% html_node('.details_1) %>% html_text() txts <-c(txts,tmp)} "
      ],
      "metadata": {
        "id": "5D1BXrDBuC-N"
      },
      "execution_count": 39,
      "outputs": []
    },
    {
      "cell_type": "code",
      "source": [
        ""
      ],
      "metadata": {
        "id": "sJLzU3ZC6iuT"
      },
      "execution_count": 39,
      "outputs": []
    }
  ]
}